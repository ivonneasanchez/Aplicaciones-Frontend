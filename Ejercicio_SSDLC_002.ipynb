{
  "nbformat": 4,
  "nbformat_minor": 0,
  "metadata": {
    "colab": {
      "provenance": [],
      "include_colab_link": true
    },
    "kernelspec": {
      "name": "python3",
      "display_name": "Python 3"
    },
    "language_info": {
      "name": "python"
    }
  },
  "cells": [
    {
      "cell_type": "markdown",
      "metadata": {
        "id": "view-in-github",
        "colab_type": "text"
      },
      "source": [
        "<a href=\"https://colab.research.google.com/github/ivonneasanchez/Aplicaciones-Frontend/blob/master/Ejercicio_SSDLC_002.ipynb\" target=\"_parent\"><img src=\"https://colab.research.google.com/assets/colab-badge.svg\" alt=\"Open In Colab\"/></a>"
      ]
    },
    {
      "cell_type": "markdown",
      "source": [
        "# **Requisitos y Diseño**\n",
        "\n",
        "---\n",
        "\n",
        "\n",
        "- Crearemos un sistema de registro de usuario donde los usuarios pueden registrar, editar y recuperar sus contraseñas.\n",
        "- Los datos del usuario se almacenarán en un diccionario y luego se guardarán en un archivo de texto.\n",
        "- Para mejorar la seguridad, las contraseñas se almacenarán de forma segura utilizando un método de hashing."
      ],
      "metadata": {
        "id": "1evI1d_-1OY8"
      }
    },
    {
      "cell_type": "markdown",
      "source": [
        "# **Implementación**\n",
        "\n",
        "---\n",
        "\n"
      ],
      "metadata": {
        "id": "uVkXKA0e1cTu"
      }
    },
    {
      "cell_type": "code",
      "execution_count": null,
      "metadata": {
        "id": "pl0hqUMUsjll"
      },
      "outputs": [],
      "source": [
        "import hashlib\n",
        "import os\n",
        "\n",
        "usuarios = {}"
      ]
    },
    {
      "cell_type": "code",
      "source": [
        "def cargar_usuarios():\n",
        "    try:\n",
        "        with open('usuarios.txt', 'r') as f:\n",
        "            for line in f.readlines():\n",
        "                username, nombre, telefono, salt, key = line.strip().split(' ')\n",
        "                usuarios[username] = {\n",
        "                    'nombre': nombre,\n",
        "                    'telefono': telefono,\n",
        "                    'salt': bytes.fromhex(salt),\n",
        "                    'key': bytes.fromhex(key)\n",
        "                }\n",
        "    except FileNotFoundError:\n",
        "        pass"
      ],
      "metadata": {
        "id": "cIvPvYV9smgZ"
      },
      "execution_count": null,
      "outputs": []
    },
    {
      "cell_type": "code",
      "source": [
        "def registrar_usuario():\n",
        "    nombre = input(\"Introduce tu nombre: \")\n",
        "    telefono = input(\"Introduce tu número de teléfono: \")\n",
        "    username = input(\"Introduce tu nombre de usuario: \")\n",
        "\n",
        "    if username in usuarios:\n",
        "        print(\"Este nombre de usuario ya existe. Por favor, elige otro.\")\n",
        "        return\n",
        "\n",
        "    password = input(\"Introduce tu contraseña: \")\n",
        "    salt = os.urandom(32)\n",
        "    key = hashlib.pbkdf2_hmac('sha256', password.encode('utf-8'), salt, 100000)\n",
        "\n",
        "    usuarios[username] = {\n",
        "        'nombre': nombre,\n",
        "        'telefono': telefono,\n",
        "        'salt': salt,\n",
        "        'key': key\n",
        "    }\n",
        "    print(f\"Usuario {username} registrado con éxito!\")\n"
      ],
      "metadata": {
        "id": "bZyb8VPosqhM"
      },
      "execution_count": null,
      "outputs": []
    },
    {
      "cell_type": "code",
      "source": [
        "def editar_usuario():\n",
        "    username = input(\"Introduce tu nombre de usuario: \")\n",
        "\n",
        "    if username not in usuarios:\n",
        "        print(\"Este nombre de usuario no existe.\")\n",
        "        return\n",
        "\n",
        "    print(\"Deja el campo en blanco si no quieres cambiarlo.\")\n",
        "    nombre = input(f\"Introduce tu nuevo nombre ({usuarios[username]['nombre']}): \")\n",
        "    telefono = input(f\"Introduce tu nuevo número de teléfono ({usuarios[username]['telefono']}): \")\n",
        "\n",
        "    if nombre:\n",
        "        usuarios[username]['nombre'] = nombre\n",
        "    if telefono:\n",
        "        usuarios[username]['telefono'] = telefono\n",
        "\n",
        "    print(f\"Usuario {username} editado con éxito!\")"
      ],
      "metadata": {
        "id": "kYGq0XGrsrlj"
      },
      "execution_count": null,
      "outputs": []
    },
    {
      "cell_type": "code",
      "source": [
        "def recuperar_contraseña():\n",
        "    username = input(\"Introduce tu nombre de usuario: \")\n",
        "\n",
        "    if username not in usuarios:\n",
        "        print(\"Este nombre de usuario no existe.\")\n",
        "        return\n",
        "\n",
        "    password = input(\"Introduce tu nueva contraseña: \")\n",
        "    salt = os.urandom(32)\n",
        "    key = hashlib.pbkdf2_hmac('sha256', password.encode('utf-8'), salt, 100000)\n",
        "\n",
        "    usuarios[username]['salt'] = salt\n",
        "    usuarios[username]['key'] = key\n",
        "\n",
        "    print(f\"Contraseña de {username} recuperada con éxito!\")"
      ],
      "metadata": {
        "id": "JOBrTOCDsuqG"
      },
      "execution_count": null,
      "outputs": []
    },
    {
      "cell_type": "code",
      "source": [
        "def guardar_usuarios():\n",
        "    with open('usuarios.txt', 'w') as f:\n",
        "        for username, data in usuarios.items():\n",
        "            f.write(f\"{username} {data['nombre']} {data['telefono']} {data['salt'].hex()} {data['key'].hex()}\\n\")\n",
        "\n",
        "cargar_usuarios()"
      ],
      "metadata": {
        "id": "E7-XX--Ss1Yz"
      },
      "execution_count": null,
      "outputs": []
    },
    {
      "cell_type": "code",
      "source": [
        "while True:\n",
        "    print(\"1. Registrar usuario\")\n",
        "    print(\"2. Editar usuario\")\n",
        "    print(\"3. Recuperar contraseña\")\n",
        "    print(\"4. Guardar usuarios y salir\")\n",
        "    opcion = input(\"Elige una opción: \")\n",
        "\n",
        "    if opcion == '1':\n",
        "        registrar_usuario()\n",
        "    elif opcion == '2':\n",
        "        editar_usuario()\n",
        "    elif opcion == '3':\n",
        "        recuperar_contraseña()\n",
        "    elif opcion == '4':\n",
        "        guardar_usuarios()\n",
        "        break\n",
        "    else:\n",
        "        print(\"Opción no válida. Por favor, elige una opción del menú.\")"
      ],
      "metadata": {
        "id": "CiYn8Tius4Sp",
        "colab": {
          "base_uri": "https://localhost:8080/"
        },
        "outputId": "6ccf46ac-6be3-4cc0-ff92-91357b1a1aab"
      },
      "execution_count": null,
      "outputs": [
        {
          "name": "stdout",
          "output_type": "stream",
          "text": [
            "1. Registrar usuario\n",
            "2. Editar usuario\n",
            "3. Recuperar contraseña\n",
            "4. Guardar usuarios y salir\n",
            "Elige una opción: 1\n",
            "Introduce tu nombre: jujan\n",
            "Introduce tu número de teléfono: 2367\n",
            "Introduce tu nombre de usuario: lilo\n",
            "Introduce tu contraseña: 2356\n",
            "Usuario lilo registrado con éxito!\n",
            "1. Registrar usuario\n",
            "2. Editar usuario\n",
            "3. Recuperar contraseña\n",
            "4. Guardar usuarios y salir\n",
            "Elige una opción: 2\n",
            "Introduce tu nombre de usuario: lilo\n",
            "Deja el campo en blanco si no quieres cambiarlo.\n",
            "Introduce tu nuevo nombre (jujan): juan\n",
            "Introduce tu nuevo número de teléfono (2367): 1155\n",
            "Usuario lilo editado con éxito!\n",
            "1. Registrar usuario\n",
            "2. Editar usuario\n",
            "3. Recuperar contraseña\n",
            "4. Guardar usuarios y salir\n",
            "Elige una opción: 4\n"
          ]
        }
      ]
    },
    {
      "cell_type": "markdown",
      "source": [
        "# **Pruebas y Despliegue**\n",
        "\n",
        "---\n",
        "\n",
        "\n",
        "Antes de desplegar la aplicación, asegúrate de probarla exhaustivamente para identificar y corregir cualquier error o vulnerabilidad de seguridad.\n",
        "\n",
        "También, asegúrate de seguir las mejores prácticas de seguridad durante el despliegue, como la configuración segura del servidor y la minimización de los privilegios."
      ],
      "metadata": {
        "id": "iSBmN-z-1gQR"
      }
    },
    {
      "cell_type": "markdown",
      "source": [
        "# **Mantenimiento y Mejora Continua**\n",
        "\n",
        "---\n",
        "\n",
        "\n",
        "Monitorea la aplicación regularmente para detectar cualquier actividad sospechosa y realiza auditorías de seguridad periódicas para identificar y corregir cualquier vulnerabilidad de seguridad emergente."
      ],
      "metadata": {
        "id": "Mrg5fY1m1ppI"
      }
    }
  ]
}