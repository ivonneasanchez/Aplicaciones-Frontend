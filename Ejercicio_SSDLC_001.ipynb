{
  "nbformat": 4,
  "nbformat_minor": 0,
  "metadata": {
    "colab": {
      "provenance": [],
      "include_colab_link": true
    },
    "kernelspec": {
      "name": "python3",
      "display_name": "Python 3"
    },
    "language_info": {
      "name": "python"
    }
  },
  "cells": [
    {
      "cell_type": "markdown",
      "metadata": {
        "id": "view-in-github",
        "colab_type": "text"
      },
      "source": [
        "<a href=\"https://colab.research.google.com/github/ivonneasanchez/Aplicaciones-Frontend/blob/master/Ejercicio_SSDLC_001.ipynb\" target=\"_parent\"><img src=\"https://colab.research.google.com/assets/colab-badge.svg\" alt=\"Open In Colab\"/></a>"
      ]
    },
    {
      "cell_type": "markdown",
      "source": [
        "# **Requisitos y Diseño**\n",
        "\n",
        "---\n",
        "\n",
        "\n",
        "- Crearemos un sistema simple de registro de usuario donde los usuarios pueden ingresar su nombre, teléfono, nombre de usuario y contraseña.\n",
        "- Los datos del usuario se almacenarán en un diccionario y luego se guardarán en un archivo de texto.\n",
        "-Para mejorar la seguridad, las contraseñas se almacenarán de forma segura utilizando un método de hashing."
      ],
      "metadata": {
        "id": "yiXblpkXzSKP"
      }
    },
    {
      "cell_type": "markdown",
      "source": [
        "# **Implementación**"
      ],
      "metadata": {
        "id": "ZSfCldT9zpXO"
      }
    },
    {
      "cell_type": "code",
      "execution_count": null,
      "metadata": {
        "id": "mnIFVGOmmYmz"
      },
      "outputs": [],
      "source": [
        "import hashlib\n",
        "import os"
      ]
    },
    {
      "cell_type": "code",
      "source": [
        "usuarios = {}\n",
        "\n",
        "def registrar_usuario():\n",
        "    nombre = input(\"Introduce tu nombre: \")\n",
        "    telefono = input(\"Introduce tu número de teléfono: \")\n",
        "    username = input(\"Introduce tu nombre de usuario: \")\n",
        "\n",
        "    # Verificar si el nombre de usuario ya existe\n",
        "    if username in usuarios:\n",
        "        print(\"Este nombre de usuario ya existe. Por favor, elige otro.\")\n",
        "        return\n",
        "\n",
        "    password = input(\"Introduce tu contraseña: \")\n",
        "\n",
        "    # Hashing de la contraseña\n",
        "    salt = os.urandom(32)\n",
        "    key = hashlib.pbkdf2_hmac('sha256', password.encode('utf-8'), salt, 100000)\n",
        "\n",
        "    # Añadir el nuevo usuario al diccionario de usuarios\n",
        "    usuarios[username] = {\n",
        "        'nombre': nombre,\n",
        "        'telefono': telefono,\n",
        "        'salt': salt,\n",
        "        'key': key\n",
        "    }\n",
        "    print(f\"Usuario {username} registrado con éxito!\")"
      ],
      "metadata": {
        "id": "LRUiokwymdot"
      },
      "execution_count": null,
      "outputs": []
    },
    {
      "cell_type": "code",
      "source": [
        "def guardar_usuarios():\n",
        "    with open('usuarios.txt', 'w') as f:\n",
        "        for username, data in usuarios.items():\n",
        "            f.write(f\"{username} {data['nombre']} {data['telefono']} {data['salt'].hex()} {data['key'].hex()}\\n\")\n"
      ],
      "metadata": {
        "id": "QQeohqhgmiMA"
      },
      "execution_count": null,
      "outputs": []
    },
    {
      "cell_type": "code",
      "source": [
        "while True:\n",
        "    print(\"1. Registrar usuario\")\n",
        "    print(\"2. Guardar usuarios y salir\")\n",
        "    opcion = input(\"Elige una opción: \")\n",
        "\n",
        "    if opcion == '1':\n",
        "        registrar_usuario()\n",
        "    elif opcion == '2':\n",
        "        guardar_usuarios()\n",
        "        break\n",
        "    else:\n",
        "        print(\"Opción no válida. Por favor, elige una opción del menú.\")"
      ],
      "metadata": {
        "id": "HgTdy4Exml2C",
        "colab": {
          "base_uri": "https://localhost:8080/"
        },
        "outputId": "5ec4c943-4d8f-4cf3-c978-59cae28e060a"
      },
      "execution_count": null,
      "outputs": [
        {
          "name": "stdout",
          "output_type": "stream",
          "text": [
            "1. Registrar usuario\n",
            "2. Guardar usuarios y salir\n",
            "Elige una opción: 1\n",
            "Introduce tu nombre: kiko\n",
            "Introduce tu número de teléfono: 45698\n",
            "Introduce tu nombre de usuario: polo\n",
            "Introduce tu contraseña: 639\n",
            "Usuario polo registrado con éxito!\n",
            "1. Registrar usuario\n",
            "2. Guardar usuarios y salir\n",
            "Elige una opción: 1\n",
            "Introduce tu nombre: pli\n",
            "Introduce tu número de teléfono: 8965\n",
            "Introduce tu nombre de usuario: kilo\n",
            "Introduce tu contraseña: 357\n",
            "Usuario kilo registrado con éxito!\n",
            "1. Registrar usuario\n",
            "2. Guardar usuarios y salir\n",
            "Elige una opción: 2\n"
          ]
        }
      ]
    },
    {
      "cell_type": "markdown",
      "source": [
        "# **Pruebas y Despliegue**\n",
        "\n",
        "---\n",
        "\n",
        "\n",
        "Antes de desplegar la aplicación, asegúrate de probarla exhaustivamente para identificar y corregir cualquier error o vulnerabilidad de seguridad.\n",
        "\n",
        "También, asegúrate de seguir las mejores prácticas de seguridad durante el despliegue, como la configuración segura del servidor y la minimización de los privilegios."
      ],
      "metadata": {
        "id": "cyhHJuKKzszW"
      }
    },
    {
      "cell_type": "markdown",
      "source": [
        "# **Mantenimiento y Mejora Continua**\n",
        "\n",
        "---\n",
        "\n",
        "\n",
        "Monitorea la aplicación regularmente para detectar cualquier actividad sospechosa y realiza auditorías de seguridad periódicas para identificar y corregir cualquier vulnerabilidad de seguridad emergente."
      ],
      "metadata": {
        "id": "As_Xsxrsz4Re"
      }
    }
  ]
}