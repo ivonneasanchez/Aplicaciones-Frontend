{
  "nbformat": 4,
  "nbformat_minor": 0,
  "metadata": {
    "colab": {
      "provenance": [],
      "include_colab_link": true
    },
    "kernelspec": {
      "name": "python3",
      "display_name": "Python 3"
    },
    "language_info": {
      "name": "python"
    }
  },
  "cells": [
    {
      "cell_type": "markdown",
      "metadata": {
        "id": "view-in-github",
        "colab_type": "text"
      },
      "source": [
        "<a href=\"https://colab.research.google.com/github/ivonneasanchez/Aplicaciones-Frontend/blob/master/jercicio_SSDLC_00.ipynb\" target=\"_parent\"><img src=\"https://colab.research.google.com/assets/colab-badge.svg\" alt=\"Open In Colab\"/></a>"
      ]
    },
    {
      "cell_type": "markdown",
      "source": [
        "# **PRACTICA  000**\n",
        "\n",
        "---\n",
        "\n",
        "\n",
        "En este ejemplo, cada usuario será un diccionario con claves para el nombre, teléfono, nombre de usuario y contraseña, y todos los usuarios se almacenarán en una lista (que actuará como nuestro \"vector\")."
      ],
      "metadata": {
        "id": "k_mhqpolwynm"
      }
    },
    {
      "cell_type": "code",
      "execution_count": null,
      "metadata": {
        "id": "TwolMFj1wdRh"
      },
      "outputs": [],
      "source": [
        "usuarios = []"
      ]
    },
    {
      "cell_type": "code",
      "source": [
        "def registrar_usuario():\n",
        "    nombre = input(\"Introduce tu nombre: \")\n",
        "    telefono = input(\"Introduce tu número de teléfono: \")\n",
        "    username = input(\"Introduce tu nombre de usuario: \")\n",
        "    password = input(\"Introduce tu contraseña: \")\n",
        "\n",
        "    # Verificar si el nombre de usuario ya existe\n",
        "    for usuario in usuarios:\n",
        "        if usuario['username'] == username:\n",
        "            print(\"Este nombre de usuario ya existe. Por favor, elige otro.\")\n",
        "            return\n",
        "\n",
        "    # Añadir el nuevo usuario a la lista de usuarios\n",
        "    usuarios.append({\n",
        "        'nombre': nombre,\n",
        "        'telefono': telefono,\n",
        "        'username': username,\n",
        "        'password': password\n",
        "    })\n",
        "    print(f\"Usuario {username} registrado con éxito!\")\n"
      ],
      "metadata": {
        "id": "dEOjcnY6wnph"
      },
      "execution_count": null,
      "outputs": []
    },
    {
      "cell_type": "code",
      "source": [
        "def mostrar_usuarios():\n",
        "    print(\"Usuarios registrados:\")\n",
        "    for usuario in usuarios:\n",
        "        print(f\"Nombre: {usuario['nombre']}, Teléfono: {usuario['telefono']}, Nombre de usuario: {usuario['username']}\")\n"
      ],
      "metadata": {
        "id": "VZsufN0Wwq8d"
      },
      "execution_count": null,
      "outputs": []
    },
    {
      "cell_type": "code",
      "source": [
        "while True:\n",
        "    print(\"1. Registrar usuario\")\n",
        "    print(\"2. Mostrar usuarios\")\n",
        "    print(\"3. Salir\")\n",
        "    opcion = input(\"Elige una opción: \")\n",
        "\n",
        "    if opcion == '1':\n",
        "        registrar_usuario()\n",
        "    elif opcion == '2':\n",
        "        mostrar_usuarios()\n",
        "    elif opcion == '3':\n",
        "        break\n",
        "    else:\n",
        "        print(\"Opción no válida. Por favor, elige una opción del menú.\")"
      ],
      "metadata": {
        "id": "JIqUsOvuwtLO",
        "colab": {
          "base_uri": "https://localhost:8080/"
        },
        "outputId": "7f318929-38cf-4b4c-eb66-e21a9adf4679"
      },
      "execution_count": null,
      "outputs": [
        {
          "name": "stdout",
          "output_type": "stream",
          "text": [
            "1. Registrar usuario\n",
            "2. Mostrar usuarios\n",
            "3. Salir\n",
            "Elige una opción: 1\n",
            "Introduce tu nombre: lola\n",
            "Introduce tu número de teléfono: 6598\n",
            "Introduce tu nombre de usuario: lilu\n",
            "Introduce tu contraseña: 123\n",
            "Usuario lilu registrado con éxito!\n",
            "1. Registrar usuario\n",
            "2. Mostrar usuarios\n",
            "3. Salir\n",
            "Elige una opción: 2\n",
            "Usuarios registrados:\n",
            "Nombre: lola, Teléfono: 6598, Nombre de usuario: lilu\n",
            "1. Registrar usuario\n",
            "2. Mostrar usuarios\n",
            "3. Salir\n",
            "Elige una opción: 1\n",
            "Introduce tu nombre: polo\n",
            "Introduce tu número de teléfono: 879\n",
            "Introduce tu nombre de usuario: lilu\n",
            "Introduce tu contraseña: 1236\n",
            "Este nombre de usuario ya existe. Por favor, elige otro.\n",
            "1. Registrar usuario\n",
            "2. Mostrar usuarios\n",
            "3. Salir\n",
            "Elige una opción: 3\n"
          ]
        }
      ]
    }
  ]
}