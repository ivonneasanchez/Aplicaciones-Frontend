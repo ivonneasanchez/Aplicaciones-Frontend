{
  "nbformat": 4,
  "nbformat_minor": 0,
  "metadata": {
    "colab": {
      "provenance": [],
      "include_colab_link": true
    },
    "kernelspec": {
      "name": "python3",
      "display_name": "Python 3"
    },
    "language_info": {
      "name": "python"
    }
  },
  "cells": [
    {
      "cell_type": "markdown",
      "metadata": {
        "id": "view-in-github",
        "colab_type": "text"
      },
      "source": [
        "<a href=\"https://colab.research.google.com/github/ivonneasanchez/Aplicaciones-Frontend/blob/master/Ejercicio_SSDLC_003.ipynb\" target=\"_parent\"><img src=\"https://colab.research.google.com/assets/colab-badge.svg\" alt=\"Open In Colab\"/></a>"
      ]
    },
    {
      "cell_type": "code",
      "execution_count": null,
      "metadata": {
        "colab": {
          "base_uri": "https://localhost:8080/"
        },
        "id": "DdVhNMPiTD54",
        "outputId": "de6847c2-3f45-4fdd-829d-7ec8d5464df9"
      },
      "outputs": [
        {
          "output_type": "stream",
          "name": "stdout",
          "text": [
            "Requirement already satisfied: pyjwt in /usr/lib/python3/dist-packages (2.3.0)\n"
          ]
        }
      ],
      "source": [
        "!pip install pyjwt"
      ]
    },
    {
      "cell_type": "code",
      "source": [
        "import jwt\n",
        "import datetime\n",
        "import os"
      ],
      "metadata": {
        "id": "o_dsKiV7TXXy"
      },
      "execution_count": null,
      "outputs": []
    },
    {
      "cell_type": "code",
      "source": [
        "# Registro de Usuarios\n",
        "\n",
        "#SECRET_KEY = \"your_secret_key\"\n",
        "SECRET_KEY = \"10qwe23wsde\"\n",
        "\n",
        "# Función para generar token JWT\n",
        "def generate_token(email):\n",
        "    payload = {\n",
        "        \"email\": email,\n",
        "        \"exp\": datetime.datetime.utcnow() + datetime.timedelta(hours=1)\n",
        "    }\n",
        "    return jwt.encode(payload, SECRET_KEY, algorithm=\"HS256\")\n",
        "\n",
        "# Función para registrar un usuario\n",
        "def register_user():\n",
        "    users = load_users()\n",
        "    email = input(\"Enter email: \")\n",
        "    if email in users:\n",
        "        print(\"Email already registered.\")\n",
        "        return\n",
        "    name = input(\"Enter name: \")\n",
        "    password = input(\"Enter password: \")\n",
        "    token = generate_token(email)\n",
        "    users[email] = {\"name\": name, \"password\": password, \"token\": token}\n",
        "    save_users(users)\n",
        "    print(\"User registered successfully.\")\n",
        "\n",
        "# Función para cargar usuarios desde un archivo\n",
        "def load_users():\n",
        "    if os.path.exists(\"users.txt\"):\n",
        "        with open(\"users.txt\", \"r\") as file:\n",
        "            return eval(file.read())\n",
        "    return {}\n",
        "\n",
        "# Función para guardar usuarios en un archivo\n",
        "def save_users(users):\n",
        "    with open(\"users.txt\", \"w\") as file:\n",
        "        file.write(str(users))\n"
      ],
      "metadata": {
        "id": "ifu4IXHMTNEB"
      },
      "execution_count": null,
      "outputs": []
    },
    {
      "cell_type": "code",
      "source": [
        "# Función para editar un usuario\n",
        "def edit_user():\n",
        "    users = load_users()\n",
        "    email = input(\"Enter email: \")\n",
        "    if email not in users:\n",
        "        print(\"User not found.\")\n",
        "        return\n",
        "    name = input(\"Enter new name: \")\n",
        "    password = input(\"Enter new password: \")\n",
        "    token = generate_token(email)\n",
        "    users[email] = {\"name\": name, \"password\": password, \"token\": token}\n",
        "    save_users(users)\n",
        "    print(\"User information updated successfully.\")\n"
      ],
      "metadata": {
        "id": "_eWMZlCGTbZb"
      },
      "execution_count": null,
      "outputs": []
    },
    {
      "cell_type": "code",
      "source": [
        "# Función para recuperar la contraseña\n",
        "def recover_password():\n",
        "    users = load_users()\n",
        "    email = input(\"Enter email: \")\n",
        "    if email not in users:\n",
        "        print(\"User not found.\")\n",
        "        return\n",
        "    new_password = input(\"Enter new password: \")\n",
        "    token = generate_token(email)\n",
        "    users[email][\"password\"] = new_password\n",
        "    users[email][\"token\"] = token\n",
        "    save_users(users)\n",
        "    print(\"Password updated successfully.\")\n"
      ],
      "metadata": {
        "id": "rMhIEsXzTfD7"
      },
      "execution_count": null,
      "outputs": []
    },
    {
      "cell_type": "code",
      "source": [
        "#Menú Principal\n",
        "\n",
        "def main():\n",
        "    while True:\n",
        "        print(\"1. Register User\")\n",
        "        print(\"2. Edit User\")\n",
        "        print(\"3. Recover Password\")\n",
        "        print(\"4. Exit\")\n",
        "        choice = input(\"Choose an option: \")\n",
        "        if choice == \"1\":\n",
        "            register_user()\n",
        "        elif choice == \"2\":\n",
        "            edit_user()\n",
        "        elif choice == \"3\":\n",
        "            recover_password()\n",
        "        elif choice == \"4\":\n",
        "            break\n",
        "        else:\n",
        "            print(\"Invalid choice. Please try again.\")\n",
        "\n",
        "if __name__ == \"__main__\":\n",
        "    main()\n"
      ],
      "metadata": {
        "colab": {
          "base_uri": "https://localhost:8080/"
        },
        "id": "0cH4mlJxTrRJ",
        "outputId": "ba220705-97fc-427b-f067-8aef849c2e94"
      },
      "execution_count": null,
      "outputs": [
        {
          "name": "stdout",
          "output_type": "stream",
          "text": [
            "1. Register User\n",
            "2. Edit User\n",
            "3. Recover Password\n",
            "4. Exit\n",
            "Choose an option: 1\n",
            "Enter email: juanc_valencia@hotmail.com\n",
            "Enter name: juanka\n",
            "Enter password: 1q2w3e4r\n",
            "User registered successfully.\n",
            "1. Register User\n",
            "2. Edit User\n",
            "3. Recover Password\n",
            "4. Exit\n",
            "Choose an option: 3\n",
            "Enter email: juanc_valencia@hotmail.com\n",
            "Enter new password: 1qa2ws\n",
            "Password updated successfully.\n",
            "1. Register User\n",
            "2. Edit User\n",
            "3. Recover Password\n",
            "4. Exit\n",
            "Choose an option: 4\n"
          ]
        }
      ]
    },
    {
      "cell_type": "markdown",
      "source": [
        "Explicación del Código\n",
        "\n",
        "1. Registro de Usuarios:\n",
        "\n",
        "* Solicita al usuario que ingrese su nombre, email y contraseña.\n",
        "* Genera un token JWT utilizando el email del usuario.\n",
        "* Almacena esta información en un diccionario y guarda el diccionario en un archivo de texto.\n",
        "\n",
        "2. Edición de Usuarios:\n",
        "\n",
        "* Permite al usuario editar su información, como nombre o contraseña.\n",
        "* Actualiza el diccionario y guarda los cambios en el archivo de texto.\n",
        "\n",
        "3. Recuperación de Contraseñas:\n",
        "\n",
        "* Solicita al usuario su email.\n",
        "* Permite al usuario ingresar una nueva contraseña y actualiza el token JWT.\n",
        "* Actualiza la información en el diccionario y guarda los cambios en el archivo de texto.\n",
        "\n",
        "4. Seguridad:\n",
        "\n",
        "* Implementa JWT para asegurar la información del usuario.\n",
        "* Almacena el token JWT en el archivo de texto junto con los datos del usuario."
      ],
      "metadata": {
        "id": "XNcYWNSNTzQX"
      }
    }
  ]
}